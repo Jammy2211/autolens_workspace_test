{
 "cells": [
  {
   "cell_type": "markdown",
   "metadata": {},
   "source": [
    "Database: Model-Fit\n",
    "===================\n",
    "\n",
    "Tests that general results can be loaded from hard-disk via a database built via a scrape."
   ]
  },
  {
   "cell_type": "code",
   "metadata": {},
   "source": [
    "%matplotlib inline\n",
    "from pyprojroot import here\n",
    "workspace_path = str(here())\n",
    "%cd $workspace_path\n",
    "print(f\"Working Directory has been set to `{workspace_path}`\")\n",
    "\n",
    "from astropy.io import fits\n",
    "import numpy as np\n",
    "from os import path\n",
    "import os\n",
    "\n",
    "import autofit as af\n",
    "import autolens as al\n",
    "import autolens.plot as aplt"
   ],
   "outputs": [],
   "execution_count": null
  },
  {
   "cell_type": "markdown",
   "metadata": {},
   "source": [
    "__Dataset + Masking__"
   ]
  },
  {
   "cell_type": "code",
   "metadata": {},
   "source": [
    "dataset_name = \"no_lens_light\"\n",
    "dataset_path = path.join(\"dataset\", \"imaging\", dataset_name)\n",
    "\n",
    "dataset = al.Imaging.from_fits(\n",
    "    data_path=path.join(dataset_path, \"data.fits\"),\n",
    "    psf_path=path.join(dataset_path, \"psf.fits\"),\n",
    "    noise_map_path=path.join(dataset_path, \"noise_map.fits\"),\n",
    "    pixel_scales=0.1,\n",
    ")\n",
    "\n",
    "mask = al.Mask2D.circular(\n",
    "    shape_native=dataset.shape_native, pixel_scales=dataset.pixel_scales, radius=3.0\n",
    ")\n",
    "\n",
    "masked_dataset = dataset.apply_mask(mask=mask)"
   ],
   "outputs": [],
   "execution_count": null
  },
  {
   "cell_type": "markdown",
   "metadata": {},
   "source": [
    "__Model__"
   ]
  },
  {
   "cell_type": "code",
   "metadata": {},
   "source": [
    "lens = af.Model(\n",
    "    al.Galaxy, redshift=0.5, mass=al.mp.Isothermal, shear=al.mp.ExternalShear\n",
    ")\n",
    "source = af.Model(al.Galaxy, redshift=1.0, bulge=al.lp_linear.Sersic)\n",
    "\n",
    "extra_galaxies = af.Collection(\n",
    "    extra_galaxy=af.Model(al.Galaxy, redshift=0.5, bulge=al.lp_linear.Sersic)\n",
    ")\n",
    "\n",
    "model = af.Collection(\n",
    "    galaxies=af.Collection(lens=lens, source=source), extra_galaxies=extra_galaxies\n",
    ")"
   ],
   "outputs": [],
   "execution_count": null
  },
  {
   "cell_type": "markdown",
   "metadata": {},
   "source": [
    "__Search + Analysis + Model-Fit__"
   ]
  },
  {
   "cell_type": "code",
   "metadata": {},
   "source": [
    "name = \"general\"\n",
    "\n",
    "search = af.DynestyStatic(\n",
    "    name=name,\n",
    "    path_prefix=path.join(\"database\", \"scrape\"),\n",
    "    unique_tag=dataset_name,\n",
    "    nlive=50,\n",
    "    maxcall=100,\n",
    "    maxiter=100,\n",
    ")\n",
    "\n",
    "analysis = al.AnalysisImaging(dataset=masked_dataset)\n",
    "\n",
    "result = search.fit(model=model, analysis=analysis, info={\"hi\": \"there\"})"
   ],
   "outputs": [],
   "execution_count": null
  },
  {
   "cell_type": "markdown",
   "metadata": {},
   "source": [
    "__Database__\n",
    "\n",
    "Add results to database."
   ]
  },
  {
   "cell_type": "code",
   "metadata": {},
   "source": [
    "from autofit.database.aggregator import Aggregator\n",
    "\n",
    "database_file = \"database_directory_general.sqlite\"\n",
    "\n",
    "try:\n",
    "    os.remove(path.join(\"output\", database_file))\n",
    "except FileNotFoundError:\n",
    "    pass\n",
    "\n",
    "agg = Aggregator.from_database(database_file)\n",
    "agg.add_directory(path.join(\"output\", \"database\", \"scrape\", dataset_name, name))\n",
    "\n",
    "assert len(agg) > 0"
   ],
   "outputs": [],
   "execution_count": null
  },
  {
   "cell_type": "markdown",
   "metadata": {},
   "source": [
    "__Samples + Results__\n",
    "\n",
    "Make sure database + agg can be used."
   ]
  },
  {
   "cell_type": "code",
   "metadata": {},
   "source": [
    "print(\"\\n\\n***********************\")\n",
    "print(\"****RESULTS TESTING****\")\n",
    "print(\"***********************\\n\")\n",
    "\n",
    "for samples in agg.values(\"samples\"):\n",
    "    print(samples.parameter_lists[0])\n",
    "\n",
    "mp_instances = [samps.median_pdf() for samps in agg.values(\"samples\")]\n",
    "print(mp_instances)\n"
   ],
   "outputs": [],
   "execution_count": null
  },
  {
   "cell_type": "markdown",
   "metadata": {},
   "source": [
    "__Queries__"
   ]
  },
  {
   "cell_type": "code",
   "metadata": {},
   "source": [
    "print(\"\\n\\n***********************\")\n",
    "print(\"****QUERIES TESTING****\")\n",
    "print(\"***********************\\n\")\n",
    "\n",
    "unique_tag = agg.search.unique_tag\n",
    "agg_query = agg.query(unique_tag == \"mass_sie__source_sersic__1\")\n",
    "samples_gen = agg_query.values(\"samples\")\n",
    "\n",
    "unique_tag = agg.search.unique_tag\n",
    "agg_query = agg.query(unique_tag == \"incorrect_name\")\n",
    "samples_gen = agg_query.values(\"samples\")\n",
    "\n",
    "name = agg.search.name\n",
    "agg_query = agg.query(name == \"database_example\")\n",
    "print(\"Total Queried Results via search name = \", len(agg_query), \"\\n\\n\")\n",
    "\n",
    "lens = agg.model.galaxies.lens\n",
    "agg_query = agg.query(lens.mass == al.mp.Isothermal)\n",
    "print(\"Total Samples Objects via `Isothermal` model query = \", len(agg_query), \"\\n\")\n",
    "\n",
    "source = agg.model.galaxies.source\n",
    "agg_query = agg.query(source.disk == None)\n",
    "print(\"Total Samples Objects via `Isothermal` model query = \", len(agg_query), \"\\n\")\n",
    "\n",
    "mass = agg.model.galaxies.lens.mass\n",
    "agg_query = agg.query((mass == al.mp.Isothermal) & (mass.einstein_radius > 1.0))\n",
    "print(\n",
    "    \"Total Samples Objects In Query `Isothermal and einstein_radius > 3.0` = \",\n",
    "    len(agg_query),\n",
    "    \"\\n\",\n",
    ")\n",
    "\n",
    "extra_galaxy_bulge = agg.model.extra_galaxies.extra_galaxy.bulge\n",
    "agg_query = agg.query(extra_galaxy_bulge == al.lp_linear.Sersic)\n",
    "print(\n",
    "    \"Total Samples Objects via `Sersic` extra galaxy model query = \",\n",
    "    len(agg_query),\n",
    "    \"\\n\",\n",
    ")\n"
   ],
   "outputs": [],
   "execution_count": null
  },
  {
   "cell_type": "markdown",
   "metadata": {},
   "source": [
    "__Files__\n",
    "\n",
    "Check that all other files stored in database (e.g. model, search) can be loaded and used."
   ]
  },
  {
   "cell_type": "code",
   "metadata": {},
   "source": [
    "print(\"\\n\\n***********************\")\n",
    "print(\"*****FILES TESTING*****\")\n",
    "print(\"***********************\\n\")\n",
    "\n",
    "for model in agg.values(\"model\"):\n",
    "    print(f\"\\n****Model Info (model)****\\n\\n{model.info}\")\n",
    "    assert model.info[0] == \"T\"\n",
    "\n",
    "for search in agg.values(\"search\"):\n",
    "    print(f\"\\n****Search (search)****\\n\\n{search}\")\n",
    "    assert search.paths.name == \"general\"\n",
    "\n",
    "for samples_summary in agg.values(\"samples_summary\"):\n",
    "    instance = samples_summary.max_log_likelihood()\n",
    "    print(f\"\\n****Max Log Likelihood (samples_summary)****\\n\\n{instance}\")\n",
    "    assert instance.galaxies.lens.mass.einstein_radius > 0.0\n",
    "    assert instance.extra_galaxies.extra_galaxy.bulge.effective_radius > 0.0\n",
    "\n",
    "for info in agg.values(\"info\"):\n",
    "    print(f\"\\n****Info****\\n\\n{info}\")\n",
    "    assert info[\"hi\"] == \"there\"\n",
    "\n",
    "for data in agg.values(\"dataset.data\"):\n",
    "    print(f\"\\n****Data (dataset.data)****\\n\\n{data}\")\n",
    "    assert isinstance(data[0], fits.PrimaryHDU)\n",
    "\n",
    "for noise_map in agg.values(\"dataset.noise_map\"):\n",
    "    print(f\"\\n****Noise Map (dataset.noise_map)****\\n\\n{noise_map}\")\n",
    "    assert isinstance(noise_map[0], fits.PrimaryHDU)\n",
    "\n",
    "try:\n",
    "    for covariance in agg.values(\"covariance\"):\n",
    "        print(f\"\\n****Covariance (covariance)****\\n\\n{covariance}\")\n",
    "        assert covariance is not None\n",
    "except ValueError:\n",
    "    pass"
   ],
   "outputs": [],
   "execution_count": null
  },
  {
   "cell_type": "markdown",
   "metadata": {},
   "source": [
    "__Aggregator Module__"
   ]
  },
  {
   "cell_type": "code",
   "metadata": {},
   "source": [
    "print(\"\\n\\n***********************\")\n",
    "print(\"***AGG MODULE TESTING***\")\n",
    "print(\"***********************\\n\\n\")\n",
    "\n",
    "tracer_agg = al.agg.TracerAgg(aggregator=agg)\n",
    "tracer_gen = tracer_agg.max_log_likelihood_gen_from()\n",
    "\n",
    "grid = al.Grid2D.uniform(shape_native=(100, 100), pixel_scales=0.1)\n",
    "\n",
    "for tracer_list in tracer_gen:\n",
    "    # Only one `Analysis` so take first and only tracer.\n",
    "    tracer = tracer_list[0]\n",
    "\n",
    "    try:\n",
    "        tracer_plotter = aplt.TracerPlotter(tracer=tracer, grid=grid)\n",
    "        tracer_plotter.figures_2d(convergence=True, potential=True)\n",
    "\n",
    "    except al.exc.ProfileException:\n",
    "        print(\"TracerAgg with linear light profiles raises correct ProfileException\")\n",
    "\n",
    "    assert tracer.galaxies[0].mass.einstein_radius > 0.0\n",
    "    assert tracer.galaxies[1].bulge.effective_radius > 0.0  # Is an extra galaxy\n",
    "\n",
    "    print(\"TracerAgg Checked\")\n",
    "\n",
    "imaging_agg = al.agg.ImagingAgg(aggregator=agg)\n",
    "imaging_gen = imaging_agg.dataset_gen_from()\n",
    "\n",
    "for dataset_list in imaging_gen:\n",
    "    dataset = dataset_list[0]\n",
    "\n",
    "    dataset_plotter = aplt.ImagingPlotter(dataset=dataset)\n",
    "    dataset_plotter.subplot_dataset()\n",
    "\n",
    "    assert dataset.pixel_scales[0] > 0.0\n",
    "\n",
    "    print(\"ImagingAgg Checked\")\n",
    "\n",
    "fit_agg = al.agg.FitImagingAgg(\n",
    "    aggregator=agg,\n",
    "    settings_inversion=al.SettingsInversion(use_border_relocator=False),\n",
    ")\n",
    "fit_imaging_gen = fit_agg.max_log_likelihood_gen_from()\n",
    "\n",
    "for fit_list in fit_imaging_gen:\n",
    "    fit = fit_list[0]\n",
    "\n",
    "    fit_plotter = aplt.FitImagingPlotter(fit=fit)\n",
    "    fit_plotter.subplot_fit()\n",
    "\n",
    "    assert fit.tracer.galaxies[0].mass.einstein_radius > 0.0\n",
    "    assert fit.tracer.galaxies[1].bulge.effective_radius > 0.0  # Is an extra galaxy\n",
    "\n",
    "    print(\"FitImagingAgg Checked\")\n"
   ],
   "outputs": [],
   "execution_count": null
  }
 ],
 "metadata": {
  "anaconda-cloud": {},
  "kernelspec": {
   "display_name": "Python 3",
   "language": "python",
   "name": "python3"
  },
  "language_info": {
   "codemirror_mode": {
    "name": "ipython",
    "version": 3
   },
   "file_extension": ".py",
   "mimetype": "text/x-python",
   "name": "python",
   "nbconvert_exporter": "python",
   "pygments_lexer": "ipython3",
   "version": "3.6.1"
  }
 },
 "nbformat": 4,
 "nbformat_minor": 4
}
